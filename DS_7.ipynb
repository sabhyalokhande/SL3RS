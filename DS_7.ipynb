{
 "cells": [
  {
   "cell_type": "code",
   "execution_count": 19,
   "id": "414dd4d4",
   "metadata": {},
   "outputs": [
    {
     "name": "stderr",
     "output_type": "stream",
     "text": [
      "[nltk_data] Downloading package punkt to\n",
      "[nltk_data]     C:\\Users\\athar\\AppData\\Roaming\\nltk_data...\n",
      "[nltk_data]   Package punkt is already up-to-date!\n",
      "[nltk_data] Downloading package stopwords to\n",
      "[nltk_data]     C:\\Users\\athar\\AppData\\Roaming\\nltk_data...\n",
      "[nltk_data]   Package stopwords is already up-to-date!\n",
      "[nltk_data] Downloading package averaged_perceptron_tagger to\n",
      "[nltk_data]     C:\\Users\\athar\\AppData\\Roaming\\nltk_data...\n",
      "[nltk_data]   Package averaged_perceptron_tagger is already up-to-\n",
      "[nltk_data]       date!\n",
      "[nltk_data] Downloading package wordnet to\n",
      "[nltk_data]     C:\\Users\\athar\\AppData\\Roaming\\nltk_data...\n",
      "[nltk_data]   Package wordnet is already up-to-date!\n"
     ]
    },
    {
     "data": {
      "text/plain": [
       "True"
      ]
     },
     "execution_count": 19,
     "metadata": {},
     "output_type": "execute_result"
    }
   ],
   "source": [
    "import nltk\n",
    "from nltk.corpus import stopwords\n",
    "from nltk.tokenize import word_tokenize\n",
    "from nltk.stem import PorterStemmer\n",
    "from nltk.stem import WordNetLemmatizer\n",
    "from sklearn.feature_extraction.text import TfidfVectorizer\n",
    "import pandas as pd\n",
    "\n",
    "nltk.download('punkt')\n",
    "nltk.download('stopwords')\n",
    "nltk.download('averaged_perceptron_tagger')\n",
    "nltk.download('wordnet')"
   ]
  },
  {
   "cell_type": "code",
   "execution_count": 5,
   "id": "913feea7",
   "metadata": {},
   "outputs": [
    {
     "name": "stdout",
     "output_type": "stream",
     "text": [
      "True friends are like stars; you donâ€™t always see them, but you know they are always there. A friend is someone who knows all about you and still loves you. The best memories are made when friends come together, no matter the time or place. Friendship is born at that moment when one person says to another, \"What! You too? I thought I was the only one.\"\n"
     ]
    }
   ],
   "source": [
    "file_path = r\"C:\\Users\\athar\\OneDrive\\Desktop\\Practical\\DSPrac\\text.txt\"  # Replace with your file path\n",
    "\n",
    "with open(file_path, 'r') as file:\n",
    "    document = file.read()  \n",
    "print(document)"
   ]
  },
  {
   "cell_type": "code",
   "execution_count": 6,
   "id": "961d6158",
   "metadata": {},
   "outputs": [
    {
     "name": "stdout",
     "output_type": "stream",
     "text": [
      "['True friends are like stars; you donâ€™t always see them, but you know they are always there.', 'A friend is someone who knows all about you and still loves you.', 'The best memories are made when friends come together, no matter the time or place.', 'Friendship is born at that moment when one person says to another, \"What!', 'You too?', 'I thought I was the only one.\"']\n"
     ]
    }
   ],
   "source": [
    "tokens=nltk.sent_tokenize(document)\n",
    "print(tokens)"
   ]
  },
  {
   "cell_type": "code",
   "execution_count": 10,
   "id": "48c0a3a4",
   "metadata": {},
   "outputs": [
    {
     "name": "stdout",
     "output_type": "stream",
     "text": [
      "['True', 'friends', 'are', 'like', 'stars', ';', 'you', 'donâ€™t', 'always', 'see', 'them', ',', 'but', 'you', 'know', 'they', 'are', 'always', 'there', '.', 'A', 'friend', 'is', 'someone', 'who', 'knows', 'all', 'about', 'you', 'and', 'still', 'loves', 'you', '.', 'The', 'best', 'memories', 'are', 'made', 'when', 'friends', 'come', 'together', ',', 'no', 'matter', 'the', 'time', 'or', 'place', '.', 'Friendship', 'is', 'born', 'at', 'that', 'moment', 'when', 'one', 'person', 'says', 'to', 'another', ',', '``', 'What', '!', 'You', 'too', '?', 'I', 'thought', 'I', 'was', 'the', 'only', 'one', '.', \"''\"]\n"
     ]
    }
   ],
   "source": [
    "token_word=nltk.word_tokenize(document)\n",
    "print(token_word)"
   ]
  },
  {
   "cell_type": "code",
   "execution_count": 11,
   "id": "9367f609",
   "metadata": {},
   "outputs": [
    {
     "name": "stdout",
     "output_type": "stream",
     "text": [
      "POS Tagging:\n",
      " [('True', 'JJ'), ('friends', 'NNS'), ('are', 'VBP'), ('like', 'IN'), ('stars', 'NNS'), (';', ':'), ('you', 'PRP'), ('donâ€™t', 'VBP'), ('always', 'RB'), ('see', 'VB'), ('them', 'PRP'), (',', ','), ('but', 'CC'), ('you', 'PRP'), ('know', 'VBP'), ('they', 'PRP'), ('are', 'VBP'), ('always', 'RB'), ('there', 'RB'), ('.', '.'), ('A', 'DT'), ('friend', 'NN'), ('is', 'VBZ'), ('someone', 'NN'), ('who', 'WP'), ('knows', 'VBZ'), ('all', 'DT'), ('about', 'IN'), ('you', 'PRP'), ('and', 'CC'), ('still', 'RB'), ('loves', 'VBZ'), ('you', 'PRP'), ('.', '.'), ('The', 'DT'), ('best', 'JJS'), ('memories', 'NNS'), ('are', 'VBP'), ('made', 'VBN'), ('when', 'WRB'), ('friends', 'NNS'), ('come', 'VBP'), ('together', 'RB'), (',', ','), ('no', 'DT'), ('matter', 'NN'), ('the', 'DT'), ('time', 'NN'), ('or', 'CC'), ('place', 'NN'), ('.', '.'), ('Friendship', 'NN'), ('is', 'VBZ'), ('born', 'VBN'), ('at', 'IN'), ('that', 'DT'), ('moment', 'NN'), ('when', 'WRB'), ('one', 'CD'), ('person', 'NN'), ('says', 'VBZ'), ('to', 'TO'), ('another', 'DT'), (',', ','), ('``', '``'), ('What', 'WP'), ('!', '.'), ('You', 'PRP'), ('too', 'RB'), ('?', '.'), ('I', 'PRP'), ('thought', 'VBD'), ('I', 'PRP'), ('was', 'VBD'), ('the', 'DT'), ('only', 'JJ'), ('one', 'NN'), ('.', '.'), (\"''\", \"''\")]\n"
     ]
    }
   ],
   "source": [
    "pos_tags=nltk.pos_tag(token_word)\n",
    "print(\"POS Tagging:\\n\",pos_tags)"
   ]
  },
  {
   "cell_type": "code",
   "execution_count": 12,
   "id": "1d3d820e",
   "metadata": {},
   "outputs": [
    {
     "name": "stdout",
     "output_type": "stream",
     "text": [
      "['True', 'friends', 'like', 'stars', ';', 'donâ€™t', 'always', 'see', ',', 'know', 'always', '.', 'friend', 'someone', 'knows', 'still', 'loves', '.', 'best', 'memories', 'made', 'friends', 'come', 'together', ',', 'matter', 'time', 'place', '.', 'Friendship', 'born', 'moment', 'one', 'person', 'says', 'another', ',', '``', '!', '?', 'thought', 'one', '.', \"''\"]\n"
     ]
    }
   ],
   "source": [
    "stop_words=set(stopwords.words(\"english\"))\n",
    "clean_tokens = [word for word in token_word if word.lower() not in stop_words]\n",
    "print(clean_tokens)"
   ]
  },
  {
   "cell_type": "code",
   "execution_count": 13,
   "id": "4d5bcf84",
   "metadata": {},
   "outputs": [
    {
     "name": "stdout",
     "output_type": "stream",
     "text": [
      "['true', 'friend', 'like', 'star', ';', 'donâ€™t', 'alway', 'see', ',', 'know', 'alway', '.', 'friend', 'someon', 'know', 'still', 'love', '.', 'best', 'memori', 'made', 'friend', 'come', 'togeth', ',', 'matter', 'time', 'place', '.', 'friendship', 'born', 'moment', 'one', 'person', 'say', 'anoth', ',', '``', '!', '?', 'thought', 'one', '.', \"''\"]\n"
     ]
    }
   ],
   "source": [
    "stemmer=PorterStemmer()\n",
    "stemmed_tokens = [stemmer.stem(word) for word in clean_tokens]\n",
    "print(stemmed_tokens)"
   ]
  },
  {
   "cell_type": "code",
   "execution_count": 14,
   "id": "b8ff624a",
   "metadata": {},
   "outputs": [
    {
     "name": "stdout",
     "output_type": "stream",
     "text": [
      "['True', 'friend', 'like', 'star', ';', 'donâ€™t', 'always', 'see', ',', 'know', 'always', '.', 'friend', 'someone', 'know', 'still', 'love', '.', 'best', 'memory', 'made', 'friend', 'come', 'together', ',', 'matter', 'time', 'place', '.', 'Friendship', 'born', 'moment', 'one', 'person', 'say', 'another', ',', '``', '!', '?', 'thought', 'one', '.', \"''\"]\n"
     ]
    }
   ],
   "source": [
    "lemme=WordNetLemmatizer()\n",
    "lemme_tokens = [lemme.lemmatize(word) for word in clean_tokens]\n",
    "print(lemme_tokens)"
   ]
  },
  {
   "cell_type": "code",
   "execution_count": 22,
   "id": "8c124bc2",
   "metadata": {},
   "outputs": [
    {
     "name": "stdout",
     "output_type": "stream",
     "text": [
      "       best      born      come      donâ    friend   friends  friendship  \\\n",
      "0  0.204124  0.204124  0.204124  0.204124  0.204124  0.408248    0.204124   \n",
      "\n",
      "       know     knows      like  ...    matter  memories    moment    person  \\\n",
      "0  0.204124  0.204124  0.204124  ...  0.204124  0.204124  0.204124  0.204124   \n",
      "\n",
      "      place      says     stars   thought      time      true  \n",
      "0  0.204124  0.204124  0.204124  0.204124  0.204124  0.204124  \n",
      "\n",
      "[1 rows x 21 columns]\n"
     ]
    }
   ],
   "source": [
    "document = [document]\n",
    "vectornize = TfidfVectorizer(stop_words=\"english\")\n",
    "tfidf = vectornize.fit_transform(document)\n",
    "\n",
    "df_tfidf = pd.DataFrame(tfidf.toarray(), columns=vectornize.get_feature_names_out())\n",
    "print(df_tfidf)"
   ]
  },
  {
   "cell_type": "code",
   "execution_count": null,
   "id": "16e33e71",
   "metadata": {},
   "outputs": [],
   "source": []
  }
 ],
 "metadata": {
  "kernelspec": {
   "display_name": "Python 3 (ipykernel)",
   "language": "python",
   "name": "python3"
  },
  "language_info": {
   "codemirror_mode": {
    "name": "ipython",
    "version": 3
   },
   "file_extension": ".py",
   "mimetype": "text/x-python",
   "name": "python",
   "nbconvert_exporter": "python",
   "pygments_lexer": "ipython3",
   "version": "3.11.5"
  }
 },
 "nbformat": 4,
 "nbformat_minor": 5
}
